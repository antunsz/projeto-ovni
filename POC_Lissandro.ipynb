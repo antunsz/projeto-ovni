{
 "cells": [
  {
   "cell_type": "code",
   "execution_count": 1,
   "metadata": {
    "cellView": "form",
    "colab": {
     "base_uri": "https://localhost:8080/"
    },
    "id": "NIt2NgJmF6Im",
    "outputId": "4ac62169-46e1-4f86-c0c4-676b34c13931"
   },
   "outputs": [
    {
     "name": "stdout",
     "output_type": "stream",
     "text": [
      "Jupyter environment detected. Enabling Open3D WebVisualizer.\n",
      "[Open3D INFO] WebRTC GUI backend enabled.\n",
      "[Open3D INFO] WebRTCWindowSystem: HTTP handshake server disabled.\n",
      "Environment Ready\n"
     ]
    }
   ],
   "source": [
    "#@title imports\n",
    "import cv2                                # state of the art computer vision algorithms library\n",
    "import numpy as np                        # fundamental package for scientific computing\n",
    "import matplotlib.pyplot as plt           # 2D plotting library producing publication quality figures\n",
    "from pyntcloud import PyntCloud # open source library for 3D pointcloud visualisation\n",
    "import pyrealsense2 as rs                 # Intel RealSense cross-platform open-source API\n",
    "import math\n",
    "import time\n",
    "import copy\n",
    "import numpy as np\n",
    "import pyrealsense2 as rs\n",
    "\n",
    "import open3d as o3d\n",
    "print(\"Environment Ready\")"
   ]
  },
  {
   "cell_type": "code",
   "execution_count": 2,
   "metadata": {
    "cellView": "form",
    "colab": {
     "base_uri": "https://localhost:8080/"
    },
    "id": "mMLqQhmQG6iD",
    "outputId": "53536b71-6217-45a5-a6d9-23442c2bf639"
   },
   "outputs": [
    {
     "ename": "RuntimeError",
     "evalue": "No device connected",
     "output_type": "error",
     "traceback": [
      "\u001b[1;31m---------------------------------------------------------------------------\u001b[0m",
      "\u001b[1;31mRuntimeError\u001b[0m                              Traceback (most recent call last)",
      "\u001b[1;32m~\\AppData\\Local\\Temp/ipykernel_10328/1587529562.py\u001b[0m in \u001b[0;36m<module>\u001b[1;34m\u001b[0m\n\u001b[0;32m      5\u001b[0m \u001b[1;33m\u001b[0m\u001b[0m\n\u001b[0;32m      6\u001b[0m \u001b[1;31m# Start streaming\u001b[0m\u001b[1;33m\u001b[0m\u001b[1;33m\u001b[0m\u001b[1;33m\u001b[0m\u001b[0m\n\u001b[1;32m----> 7\u001b[1;33m \u001b[0mpipeline\u001b[0m\u001b[1;33m.\u001b[0m\u001b[0mstart\u001b[0m\u001b[1;33m(\u001b[0m\u001b[0mconfig\u001b[0m\u001b[1;33m)\u001b[0m\u001b[1;33m\u001b[0m\u001b[1;33m\u001b[0m\u001b[0m\n\u001b[0m",
      "\u001b[1;31mRuntimeError\u001b[0m: No device connected"
     ]
    }
   ],
   "source": [
    "#@title Setup\n",
    "pipeline = rs.pipeline()\n",
    "config = rs.config()\n",
    "config.enable_stream(rs.stream.depth, 640, 480, rs.format.z16, 30)\n",
    "\n",
    "# Start streaming\n",
    "pipeline.start(config)"
   ]
  },
  {
   "cell_type": "code",
   "execution_count": 3,
   "metadata": {
    "cellView": "form",
    "id": "TJM8IW9HHrOo"
   },
   "outputs": [],
   "source": [
    "#@title Funções Auxiliares\n",
    "def demo_crop_geometry(file):\n",
    "    print(\"Demo for manual geometry cropping\")\n",
    "    print(\n",
    "        \"1) Press 'Y' twice to align geometry with negative direction of y-axis\"\n",
    "    )\n",
    "    print(\"2) Press 'K' to lock screen and to switch to selection mode\")\n",
    "    print(\"3) Drag for rectangle selection,\")\n",
    "    print(\"   or use ctrl + left click for polygon selection\")\n",
    "    print(\"4) Press 'C' to get a selected geometry and to save it\")\n",
    "    print(\"5) Press 'F' to switch to freeview mode\")\n",
    "    pcd = o3d.io.read_point_cloud(file)\n",
    "    o3d.visualization.draw_geometries_with_editing([pcd])\n",
    "\n",
    "\n",
    "def draw_registration_result(source, target, transformation):\n",
    "    source_temp = copy.deepcopy(source)\n",
    "    target_temp = copy.deepcopy(target)\n",
    "    source_temp.paint_uniform_color([1, 0.706, 0])\n",
    "    target_temp.paint_uniform_color([0, 0.651, 0.929])\n",
    "    source_temp.transform(transformation)\n",
    "    o3d.visualization.draw_geometries([source_temp, target_temp])\n",
    "\n",
    "\n",
    "def pick_points(pcd):\n",
    "    print(\"\")\n",
    "    print(\n",
    "        \"1) Please pick at least three correspondences using [shift + left click]\"\n",
    "    )\n",
    "    print(\"   Press [shift + right click] to undo point picking\")\n",
    "    print(\"2) Afther picking points, press q for close the window\")\n",
    "    vis = o3d.visualization.VisualizerWithEditing()\n",
    "    vis.create_window()\n",
    "    vis.add_geometry(pcd)\n",
    "    vis.run()  # user picks points\n",
    "    vis.destroy_window()\n",
    "    print(\"\")\n",
    "    return vis.get_picked_points()\n",
    "\n",
    "\n",
    "def demo_manual_registration():\n",
    "    print(\"Demo for manual ICP\")\n",
    "    source = o3d.io.read_point_cloud(\"../../TestData/ICP/cloud_bin_0.pcd\")\n",
    "    target = o3d.io.read_point_cloud(\"../../TestData/ICP/cloud_bin_2.pcd\")\n",
    "    print(\"Visualization of two point clouds before manual alignment\")\n",
    "    draw_registration_result(source, target, np.identity(4))\n",
    "\n",
    "    # pick points from two point clouds and builds correspondences\n",
    "    picked_id_source = pick_points(source)\n",
    "    picked_id_target = pick_points(target)\n",
    "    assert (len(picked_id_source) >= 3 and len(picked_id_target) >= 3)\n",
    "    assert (len(picked_id_source) == len(picked_id_target))\n",
    "    corr = np.zeros((len(picked_id_source), 2))\n",
    "    corr[:, 0] = picked_id_source\n",
    "    corr[:, 1] = picked_id_target\n",
    "\n",
    "    # estimate rough transformation using correspondences\n",
    "    print(\"Compute a rough transform using the correspondences given by user\")\n",
    "    p2p = o3d.registration.TransformationEstimationPointToPoint()\n",
    "    trans_init = p2p.compute_transformation(source, target,\n",
    "                                            o3d.utility.Vector2iVector(corr))\n",
    "\n",
    "    # point-to-point ICP for refinement\n",
    "    print(\"Perform point-to-point ICP refinement\")\n",
    "    threshold = 0.03  # 3cm distance threshold\n",
    "    reg_p2p = o3d.registration.registration_icp(\n",
    "        source, target, threshold, trans_init,\n",
    "        o3d.registration.TransformationEstimationPointToPoint())\n",
    "    draw_registration_result(source, target, reg_p2p.transformation)\n",
    "    print(\"\")"
   ]
  },
  {
   "cell_type": "code",
   "execution_count": null,
   "metadata": {
    "cellView": "form",
    "id": "sTJQNNTkG8_P"
   },
   "outputs": [],
   "source": [
    "#@title Software de image\n",
    "import math\n",
    "import time\n",
    "import cv2\n",
    "import numpy as np\n",
    "import pyrealsense2 as rs\n",
    "\n",
    "class AppState:\n",
    "\n",
    "    def __init__(self, *args, **kwargs):\n",
    "        self.WIN_NAME = 'RealSense'\n",
    "        self.pitch, self.yaw = math.radians(-10), math.radians(-15)\n",
    "        self.translation = np.array([0, 0, -1], dtype=np.float32)\n",
    "        self.distance = 2\n",
    "        self.prev_mouse = 0, 0\n",
    "        self.mouse_btns = [False, False, False]\n",
    "        self.paused = False\n",
    "        self.decimate = 1\n",
    "        self.scale = True\n",
    "        self.color = True\n",
    "\n",
    "    def reset(self):\n",
    "        self.pitch, self.yaw, self.distance = 0, 0, 2\n",
    "        self.translation[:] = 0, 0, -1\n",
    "\n",
    "    @property\n",
    "    def rotation(self):\n",
    "        Rx, _ = cv2.Rodrigues((self.pitch, 0, 0))\n",
    "        Ry, _ = cv2.Rodrigues((0, self.yaw, 0))\n",
    "        return np.dot(Ry, Rx).astype(np.float32)\n",
    "\n",
    "    @property\n",
    "    def pivot(self):\n",
    "        return self.translation + np.array((0, 0, self.distance), dtype=np.float32)\n",
    "\n",
    "\n",
    "state = AppState()\n",
    "\n",
    "# Configure depth and color streams\n",
    "pipeline = rs.pipeline()\n",
    "config = rs.config()\n",
    "\n",
    "pipeline_wrapper = rs.pipeline_wrapper(pipeline)\n",
    "pipeline_profile = config.resolve(pipeline_wrapper)\n",
    "device = pipeline_profile.get_device()\n",
    "\n",
    "found_rgb = False\n",
    "for s in device.sensors:\n",
    "    if s.get_info(rs.camera_info.name) == 'RGB Camera':\n",
    "        found_rgb = True\n",
    "        break\n",
    "if not found_rgb:\n",
    "    print(\"The demo requires Depth camera with Color sensor\")\n",
    "    exit(0)\n",
    "\n",
    "config.enable_stream(rs.stream.depth, rs.format.z16, 30)\n",
    "config.enable_stream(rs.stream.color, rs.format.bgr8, 30)\n",
    "\n",
    "# Start streaming\n",
    "pipeline.start(config)\n",
    "\n",
    "# Get stream profile and camera intrinsics\n",
    "profile = pipeline.get_active_profile()\n",
    "depth_profile = rs.video_stream_profile(profile.get_stream(rs.stream.depth))\n",
    "depth_intrinsics = depth_profile.get_intrinsics()\n",
    "w, h = depth_intrinsics.width, depth_intrinsics.height\n",
    "\n",
    "# Processing blocks\n",
    "pc = rs.pointcloud()\n",
    "decimate = rs.decimation_filter()\n",
    "decimate.set_option(rs.option.filter_magnitude, 2 ** state.decimate)\n",
    "colorizer = rs.colorizer()\n",
    "\n",
    "\n",
    "def mouse_cb(event, x, y, flags, param):\n",
    "\n",
    "    if event == cv2.EVENT_LBUTTONDOWN:\n",
    "        state.mouse_btns[0] = True\n",
    "\n",
    "    if event == cv2.EVENT_LBUTTONUP:\n",
    "        state.mouse_btns[0] = False\n",
    "\n",
    "    if event == cv2.EVENT_RBUTTONDOWN:\n",
    "        state.mouse_btns[1] = True\n",
    "\n",
    "    if event == cv2.EVENT_RBUTTONUP:\n",
    "        state.mouse_btns[1] = False\n",
    "\n",
    "    if event == cv2.EVENT_MBUTTONDOWN:\n",
    "        state.mouse_btns[2] = True\n",
    "\n",
    "    if event == cv2.EVENT_MBUTTONUP:\n",
    "        state.mouse_btns[2] = False\n",
    "\n",
    "    if event == cv2.EVENT_MOUSEMOVE:\n",
    "\n",
    "        h, w = out.shape[:2]\n",
    "        dx, dy = x - state.prev_mouse[0], y - state.prev_mouse[1]\n",
    "\n",
    "        if state.mouse_btns[0]:\n",
    "            state.yaw += float(dx) / w * 2\n",
    "            state.pitch -= float(dy) / h * 2\n",
    "\n",
    "        elif state.mouse_btns[1]:\n",
    "            dp = np.array((dx / w, dy / h, 0), dtype=np.float32)\n",
    "            state.translation -= np.dot(state.rotation, dp)\n",
    "\n",
    "        elif state.mouse_btns[2]:\n",
    "            dz = math.sqrt(dx**2 + dy**2) * math.copysign(0.01, -dy)\n",
    "            state.translation[2] += dz\n",
    "            state.distance -= dz\n",
    "\n",
    "    if event == cv2.EVENT_MOUSEWHEEL:\n",
    "        dz = math.copysign(0.1, flags)\n",
    "        state.translation[2] += dz\n",
    "        state.distance -= dz\n",
    "\n",
    "    state.prev_mouse = (x, y)\n",
    "\n",
    "\n",
    "cv2.namedWindow(state.WIN_NAME, cv2.WINDOW_AUTOSIZE)\n",
    "cv2.resizeWindow(state.WIN_NAME, w, h)\n",
    "cv2.setMouseCallback(state.WIN_NAME, mouse_cb)\n",
    "\n",
    "\n",
    "def project(v):\n",
    "    \"\"\"project 3d vector array to 2d\"\"\"\n",
    "    h, w = out.shape[:2]\n",
    "    view_aspect = float(h)/w\n",
    "\n",
    "    # ignore divide by zero for invalid depth\n",
    "    with np.errstate(divide='ignore', invalid='ignore'):\n",
    "        proj = v[:, :-1] / v[:, -1, np.newaxis] * \\\n",
    "            (w*view_aspect, h) + (w/2.0, h/2.0)\n",
    "\n",
    "    # near clipping\n",
    "    znear = 0.03\n",
    "    proj[v[:, 2] < znear] = np.nan\n",
    "    return proj\n",
    "\n",
    "\n",
    "def view(v):\n",
    "    \"\"\"apply view transformation on vector array\"\"\"\n",
    "    return np.dot(v - state.pivot, state.rotation) + state.pivot - state.translation\n",
    "\n",
    "\n",
    "def line3d(out, pt1, pt2, color=(0x80, 0x80, 0x80), thickness=1):\n",
    "    \"\"\"draw a 3d line from pt1 to pt2\"\"\"\n",
    "    p0 = project(pt1.reshape(-1, 3))[0]\n",
    "    p1 = project(pt2.reshape(-1, 3))[0]\n",
    "    if np.isnan(p0).any() or np.isnan(p1).any():\n",
    "        return\n",
    "    p0 = tuple(p0.astype(int))\n",
    "    p1 = tuple(p1.astype(int))\n",
    "    rect = (0, 0, out.shape[1], out.shape[0])\n",
    "    inside, p0, p1 = cv2.clipLine(rect, p0, p1)\n",
    "    if inside:\n",
    "        cv2.line(out, p0, p1, color, thickness, cv2.LINE_AA)\n",
    "\n",
    "\n",
    "def grid(out, pos, rotation=np.eye(3), size=1, n=10, color=(0x80, 0x80, 0x80)):\n",
    "    \"\"\"draw a grid on xz plane\"\"\"\n",
    "    pos = np.array(pos)\n",
    "    s = size / float(n)\n",
    "    s2 = 0.5 * size\n",
    "    for i in range(0, n+1):\n",
    "        x = -s2 + i*s\n",
    "        line3d(out, view(pos + np.dot((x, 0, -s2), rotation)),\n",
    "               view(pos + np.dot((x, 0, s2), rotation)), color)\n",
    "    for i in range(0, n+1):\n",
    "        z = -s2 + i*s\n",
    "        line3d(out, view(pos + np.dot((-s2, 0, z), rotation)),\n",
    "               view(pos + np.dot((s2, 0, z), rotation)), color)\n",
    "\n",
    "\n",
    "def axes(out, pos, rotation=np.eye(3), size=0.075, thickness=2):\n",
    "    \"\"\"draw 3d axes\"\"\"\n",
    "    line3d(out, pos, pos +\n",
    "           np.dot((0, 0, size), rotation), (0xff, 0, 0), thickness)\n",
    "    line3d(out, pos, pos +\n",
    "           np.dot((0, size, 0), rotation), (0, 0xff, 0), thickness)\n",
    "    line3d(out, pos, pos +\n",
    "           np.dot((size, 0, 0), rotation), (0, 0, 0xff), thickness)\n",
    "\n",
    "\n",
    "def frustum(out, intrinsics, color=(0x40, 0x40, 0x40)):\n",
    "    \"\"\"draw camera's frustum\"\"\"\n",
    "    orig = view([0, 0, 0])\n",
    "    w, h = intrinsics.width, intrinsics.height\n",
    "\n",
    "    for d in range(1, 6, 2):\n",
    "        def get_point(x, y):\n",
    "            p = rs.rs2_deproject_pixel_to_point(intrinsics, [x, y], d)\n",
    "            line3d(out, orig, view(p), color)\n",
    "            return p\n",
    "\n",
    "        top_left = get_point(0, 0)\n",
    "        top_right = get_point(w, 0)\n",
    "        bottom_right = get_point(w, h)\n",
    "        bottom_left = get_point(0, h)\n",
    "\n",
    "        line3d(out, view(top_left), view(top_right), color)\n",
    "        line3d(out, view(top_right), view(bottom_right), color)\n",
    "        line3d(out, view(bottom_right), view(bottom_left), color)\n",
    "        line3d(out, view(bottom_left), view(top_left), color)\n",
    "\n",
    "\n",
    "def pointcloud(out, verts, texcoords, color, painter=True):\n",
    "    \"\"\"draw point cloud with optional painter's algorithm\"\"\"\n",
    "    if painter:\n",
    "        # Painter's algo, sort points from back to front\n",
    "\n",
    "        # get reverse sorted indices by z (in view-space)\n",
    "        # https://gist.github.com/stevenvo/e3dad127598842459b68\n",
    "        v = view(verts)\n",
    "        s = v[:, 2].argsort()[::-1]\n",
    "        proj = project(v[s])\n",
    "    else:\n",
    "        proj = project(view(verts))\n",
    "\n",
    "    if state.scale:\n",
    "        proj *= 0.5**state.decimate\n",
    "\n",
    "    h, w = out.shape[:2]\n",
    "\n",
    "    # proj now contains 2d image coordinates\n",
    "    j, i = proj.astype(np.uint32).T\n",
    "\n",
    "    # create a mask to ignore out-of-bound indices\n",
    "    im = (i >= 0) & (i < h)\n",
    "    jm = (j >= 0) & (j < w)\n",
    "    m = im & jm\n",
    "\n",
    "    cw, ch = color.shape[:2][::-1]\n",
    "    if painter:\n",
    "        # sort texcoord with same indices as above\n",
    "        # texcoords are [0..1] and relative to top-left pixel corner,\n",
    "        # multiply by size and add 0.5 to center\n",
    "        v, u = (texcoords[s] * (cw, ch) + 0.5).astype(np.uint32).T\n",
    "    else:\n",
    "        v, u = (texcoords * (cw, ch) + 0.5).astype(np.uint32).T\n",
    "    # clip texcoords to image\n",
    "    np.clip(u, 0, ch-1, out=u)\n",
    "    np.clip(v, 0, cw-1, out=v)\n",
    "\n",
    "    # perform uv-mapping\n",
    "    out[i[m], j[m]] = color[u[m], v[m]]\n",
    "\n",
    "\n",
    "out = np.empty((h, w, 3), dtype=np.uint8)\n",
    "\n",
    "while True:\n",
    "    # Grab camera data\n",
    "    if not state.paused:\n",
    "        # Wait for a coherent pair of frames: depth and color\n",
    "        frames = pipeline.wait_for_frames()\n",
    "\n",
    "        depth_frame = frames.get_depth_frame()\n",
    "        color_frame = frames.get_color_frame()\n",
    "\n",
    "        depth_frame = decimate.process(depth_frame)\n",
    "\n",
    "        # Grab new intrinsics (may be changed by decimation)\n",
    "        depth_intrinsics = rs.video_stream_profile(\n",
    "            depth_frame.profile).get_intrinsics()\n",
    "        w, h = depth_intrinsics.width, depth_intrinsics.height\n",
    "\n",
    "        depth_image = np.asanyarray(depth_frame.get_data())\n",
    "        color_image = np.asanyarray(color_frame.get_data())\n",
    "\n",
    "        depth_colormap = np.asanyarray(\n",
    "            colorizer.colorize(depth_frame).get_data())\n",
    "\n",
    "        if state.color:\n",
    "            mapped_frame, color_source = color_frame, color_image\n",
    "        else:\n",
    "            mapped_frame, color_source = depth_frame, depth_colormap\n",
    "\n",
    "        points = pc.calculate(depth_frame)\n",
    "        pc.map_to(mapped_frame)\n",
    "\n",
    "        # Pointcloud data to arrays\n",
    "        v, t = points.get_vertices(), points.get_texture_coordinates()\n",
    "        verts = np.asanyarray(v).view(np.float32).reshape(-1, 3)  # xyz\n",
    "        texcoords = np.asanyarray(t).view(np.float32).reshape(-1, 2)  # uv\n",
    "\n",
    "    # Render\n",
    "    now = time.time()\n",
    "\n",
    "    out.fill(0)\n",
    "\n",
    "    grid(out, (0, 0.5, 1), size=1, n=10)\n",
    "    frustum(out, depth_intrinsics)\n",
    "    axes(out, view([0, 0, 0]), state.rotation, size=0.1, thickness=1)\n",
    "\n",
    "    if not state.scale or out.shape[:2] == (h, w):\n",
    "        pointcloud(out, verts, texcoords, color_source)\n",
    "    else:\n",
    "        tmp = np.zeros((h, w, 3), dtype=np.uint8)\n",
    "        pointcloud(tmp, verts, texcoords, color_source)\n",
    "        tmp = cv2.resize(\n",
    "            tmp, out.shape[:2][::-1], interpolation=cv2.INTER_NEAREST)\n",
    "        np.putmask(out, tmp > 0, tmp)\n",
    "\n",
    "    if any(state.mouse_btns):\n",
    "        axes(out, view(state.pivot), state.rotation, thickness=4)\n",
    "\n",
    "    dt = time.time() - now\n",
    "\n",
    "    cv2.setWindowTitle(\n",
    "        state.WIN_NAME, \"RealSense (%dx%d) %dFPS (%.2fms) %s\" %\n",
    "        (w, h, 1.0/dt, dt*1000, \"PAUSED\" if state.paused else \"\"))\n",
    "\n",
    "    cv2.imshow(state.WIN_NAME, out)\n",
    "    key = cv2.waitKey(1)\n",
    "\n",
    "    if key == ord(\"r\"):\n",
    "        state.reset()\n",
    "\n",
    "    if key == ord(\"p\"):\n",
    "        state.paused ^= True\n",
    "\n",
    "    if key == ord(\"d\"):\n",
    "        state.decimate = (state.decimate + 1) % 3\n",
    "        decimate.set_option(rs.option.filter_magnitude, 2 ** state.decimate)\n",
    "\n",
    "    if key == ord(\"z\"):\n",
    "        state.scale ^= True\n",
    "\n",
    "    if key == ord(\"c\"):\n",
    "        state.color ^= True\n",
    "\n",
    "    if key == ord(\"s\"):\n",
    "        cv2.imwrite('./out.png', out)\n",
    "\n",
    "    if key == ord(\"e\"):\n",
    "        points.export_to_ply('./out.ply', mapped_frame)\n",
    "\n",
    "    if key in (27, ord(\"q\")) or cv2.getWindowProperty(state.WIN_NAME, cv2.WND_PROP_AUTOSIZE) < 0:\n",
    "        break\n",
    "\n",
    "# Stop streaming\n",
    "pipeline.stop()"
   ]
  },
  {
   "cell_type": "code",
   "execution_count": null,
   "metadata": {
    "id": "CelcXu3uVWNz"
   },
   "outputs": [],
   "source": []
  },
  {
   "cell_type": "code",
   "execution_count": null,
   "metadata": {
    "colab": {
     "base_uri": "https://localhost:8080/"
    },
    "id": "C5clDt-1DG_U",
    "outputId": "9aa5284b-3ad1-4c84-ea84-a9db4be0d79f"
   },
   "outputs": [
    {
     "name": "stdout",
     "output_type": "stream",
     "text": [
      "[Open3D WARNING] Write PLY failed: point cloud has 0 points.\n"
     ]
    },
    {
     "data": {
      "text/plain": [
       "False"
      ]
     },
     "execution_count": 11,
     "metadata": {},
     "output_type": "execute_result"
    }
   ],
   "source": [
    "# Read point cloud from PLY\n",
    "pcd1 = o3d.io.read_point_cloud(\"out.ply\")\n",
    "points = np.asarray(pcd1.points)\n",
    "\n",
    "# Sphere center and radius\n",
    "center = np.array([0.0259199 ,  0.01095633, -0.60922153])\n",
    "radius = 0.8\n",
    "\n",
    "# Calculate distances to center, set new points\n",
    "distances = np.linalg.norm(points - center, axis=1)\n",
    "new_vector = []\n",
    "for point in points:\n",
    "  if point[2] > 0:\n",
    "    new_vector.append(point)\n",
    "pcd1.points = o3d.utility.Vector3dVector(new_vector)\n",
    "\n",
    "# Write point cloud out\n",
    "o3d.io.write_point_cloud(\"out_c.ply\", pcd1)"
   ]
  },
  {
   "cell_type": "code",
   "execution_count": null,
   "metadata": {
    "colab": {
     "base_uri": "https://localhost:8080/"
    },
    "id": "FzDk8wz0UKOK",
    "outputId": "6b04b563-7322-42bd-ad05-0d71bce6919c"
   },
   "outputs": [
    {
     "data": {
      "text/plain": [
       "'C:\\\\Users\\\\carlo\\\\anaconda3\\\\lib\\\\site-packages\\\\open3d\\\\__init__.py'"
      ]
     },
     "execution_count": 28,
     "metadata": {},
     "output_type": "execute_result"
    }
   ],
   "source": [
    "o3d.__file__"
   ]
  },
  {
   "cell_type": "code",
   "execution_count": 4,
   "metadata": {
    "id": "4o4q5I70GfdX"
   },
   "outputs": [],
   "source": [
    "pcd1 = o3d.io.read_point_cloud(\"out.ply\")"
   ]
  },
  {
   "cell_type": "code",
   "execution_count": 5,
   "metadata": {
    "id": "y2pR13xOPgP9"
   },
   "outputs": [],
   "source": [
    "pcd = o3d.io.read_point_cloud(\"antena.ply\")\n",
    "o3d.visualization.draw_geometries_with_editing([pcd])"
   ]
  },
  {
   "cell_type": "code",
   "execution_count": null,
   "metadata": {
    "colab": {
     "base_uri": "https://localhost:8080/"
    },
    "id": "r7WdOLpnOSRo",
    "outputId": "999bab69-ea78-4c88-aa73-c21ebd016f42"
   },
   "outputs": [
    {
     "name": "stdout",
     "output_type": "stream",
     "text": [
      "[Open3D WARNING] SelectionPolygonVolume read JSON failed: empty trajectory.\n"
     ]
    }
   ],
   "source": [
    "pcd = o3d.io.read_point_cloud(\"out.ply\")\n",
    "vol = o3d.visualization.read_selection_polygon_volume(\n",
    "    \"antena_c.json\")\n"
   ]
  },
  {
   "cell_type": "code",
   "execution_count": null,
   "metadata": {
    "id": "WSY3SrIYPHln"
   },
   "outputs": [],
   "source": [
    "chair = vol.crop_point_cloud(pcd)\n",
    "o3d.visualization.draw_geometries([chair])"
   ]
  },
  {
   "cell_type": "code",
   "execution_count": null,
   "metadata": {
    "colab": {
     "base_uri": "https://localhost:8080/"
    },
    "id": "Er1xYB9rHhMq",
    "outputId": "7bf29692-e813-427f-bdaf-23f89f54fdbb"
   },
   "outputs": [
    {
     "data": {
      "text/plain": [
       "std::vector<Eigen::Vector3d> with 134429 elements.\n",
       "Use numpy.asarray() to access data."
      ]
     },
     "execution_count": 61,
     "metadata": {},
     "output_type": "execute_result"
    }
   ],
   "source": [
    "pcd1.points"
   ]
  },
  {
   "cell_type": "code",
   "execution_count": null,
   "metadata": {
    "colab": {
     "base_uri": "https://localhost:8080/"
    },
    "id": "-NzTz-SSIGbS",
    "outputId": "711f4abd-f9ab-4b90-d978-835f7e3e8961"
   },
   "outputs": [
    {
     "data": {
      "text/plain": [
       "134429"
      ]
     },
     "execution_count": 84,
     "metadata": {},
     "output_type": "execute_result"
    }
   ],
   "source": [
    "len(np.asarray(pcd1.points)[:, :])"
   ]
  },
  {
   "cell_type": "code",
   "execution_count": null,
   "metadata": {
    "id": "2c4nb7L7HDQt"
   },
   "outputs": [],
   "source": [
    "\n",
    "for i in range(134429):\n",
    "  if i % 1000 == 0:\n",
    "    print(np.asarray(pcd1.points))"
   ]
  },
  {
   "cell_type": "code",
   "execution_count": 6,
   "metadata": {
    "colab": {
     "base_uri": "https://localhost:8080/"
    },
    "id": "ioL_4LR_Hk4n",
    "outputId": "d8e71395-4829-42fa-86e8-83d009212fc1"
   },
   "outputs": [
    {
     "name": "stdout",
     "output_type": "stream",
     "text": [
      "Demo for manual geometry cropping\n",
      "1) Press 'Y' twice to align geometry with negative direction of y-axis\n",
      "2) Press 'K' to lock screen and to switch to selection mode\n",
      "3) Drag for rectangle selection,\n",
      "   or use ctrl + left click for polygon selection\n",
      "4) Press 'C' to get a selected geometry and to save it\n",
      "5) Press 'F' to switch to freeview mode\n"
     ]
    }
   ],
   "source": [
    "#@title Crop\n",
    "demo_crop_geometry(\"./dataset/realsense/fragments/fragment_004.ply\")"
   ]
  },
  {
   "cell_type": "code",
   "execution_count": 7,
   "metadata": {
    "colab": {
     "base_uri": "https://localhost:8080/"
    },
    "id": "N29ys6nEICRf",
    "outputId": "e08017d7-a67d-49e7-eb3f-c65f0ee1e208"
   },
   "outputs": [
    {
     "name": "stdout",
     "output_type": "stream",
     "text": [
      "Load a ply point cloud, print it, and render it\n",
      "PointCloud with 130210 points.\n",
      "[[-0.42223629  0.39462873 -0.95200002]\n",
      " [-0.42053637  0.39504325 -0.95300007]\n",
      " [-0.41795379  0.39462873 -0.95200002]\n",
      " ...\n",
      " [ 0.62797624 -0.34939346 -0.91000003]\n",
      " [ 0.63071537 -0.3497774  -0.91100007]\n",
      " [ 0.63276446 -0.3497774  -0.91100007]]\n"
     ]
    }
   ],
   "source": [
    "print(\"Load a ply point cloud, print it, and render it\")\n",
    "pcd = o3d.io.read_point_cloud(\"out.ply\")\n",
    "print(pcd)\n",
    "print(np.asarray(pcd.points))\n",
    "o3d.visualization.draw_geometries([pcd])"
   ]
  },
  {
   "cell_type": "code",
   "execution_count": null,
   "metadata": {
    "colab": {
     "base_uri": "https://localhost:8080/",
     "height": 243
    },
    "id": "Z9WeSfRS7iTu",
    "outputId": "8954ba6f-386c-4169-e139-072e00d8e182"
   },
   "outputs": [
    {
     "ename": "TypeError",
     "evalue": "ignored",
     "output_type": "error",
     "traceback": [
      "\u001b[1;31m---------------------------------------------------------------------------\u001b[0m",
      "\u001b[1;31mTypeError\u001b[0m                                 Traceback (most recent call last)",
      "\u001b[1;32m~\\AppData\\Local\\Temp/ipykernel_1700/4204555085.py\u001b[0m in \u001b[0;36m<module>\u001b[1;34m\u001b[0m\n\u001b[1;32m----> 1\u001b[1;33m \u001b[0mpcd\u001b[0m\u001b[1;33m.\u001b[0m\u001b[0mremove_radius_outlier\u001b[0m\u001b[1;33m(\u001b[0m\u001b[1;33m)\u001b[0m\u001b[1;33m\u001b[0m\u001b[1;33m\u001b[0m\u001b[0m\n\u001b[0m",
      "\u001b[1;31mTypeError\u001b[0m: remove_radius_outlier(): incompatible function arguments. The following argument types are supported:\n    1. (self: open3d.cpu.pybind.geometry.PointCloud, nb_points: int, radius: float, print_progress: bool = False) -> Tuple[open3d.cpu.pybind.geometry.PointCloud, List[int]]\n\nInvoked with: PointCloud with 134429 points."
     ]
    }
   ],
   "source": [
    "pcd.remove_radius_outlier()"
   ]
  },
  {
   "cell_type": "code",
   "execution_count": null,
   "metadata": {
    "id": "-grYkZIj_VYm"
   },
   "outputs": [],
   "source": []
  },
  {
   "cell_type": "code",
   "execution_count": 12,
   "metadata": {
    "colab": {
     "base_uri": "https://localhost:8080/"
    },
    "id": "Vawm2OBE70UW",
    "outputId": "db506ae1-e6a1-4f1a-da4e-8ba029cca865"
   },
   "outputs": [
    {
     "data": {
      "text/plain": [
       "array([[-0.42223629,  0.39462873, -0.95200002],\n",
       "       [-0.42053637,  0.39504325, -0.95300007],\n",
       "       [-0.41795379,  0.39462873, -0.95200002],\n",
       "       ...,\n",
       "       [ 0.62797624, -0.34939346, -0.91000003],\n",
       "       [ 0.63071537, -0.3497774 , -0.91100007],\n",
       "       [ 0.63276446, -0.3497774 , -0.91100007]])"
      ]
     },
     "execution_count": 12,
     "metadata": {},
     "output_type": "execute_result"
    }
   ],
   "source": [
    "np.array(pcd.points)"
   ]
  },
  {
   "cell_type": "code",
   "execution_count": null,
   "metadata": {
    "colab": {
     "base_uri": "https://localhost:8080/"
    },
    "id": "wfr6sVTB77Lv",
    "outputId": "90b294bd-6e87-4af2-efb8-79e7c463c5f7"
   },
   "outputs": [
    {
     "data": {
      "text/plain": [
       "(7460, 3)"
      ]
     },
     "execution_count": 13,
     "metadata": {},
     "output_type": "execute_result"
    }
   ],
   "source": [
    "matriz_1."
   ]
  },
  {
   "cell_type": "code",
   "execution_count": null,
   "metadata": {
    "colab": {
     "base_uri": "https://localhost:8080/"
    },
    "id": "ASfYockl8Cro",
    "outputId": "8d7f7c49-0f16-4f7e-9fed-34cfcfe2d5a8"
   },
   "outputs": [
    {
     "data": {
      "text/plain": [
       "(array([-0.00501346, -0.01013169, -0.53847348]),\n",
       " array([[ 1.00072937e-02,  9.85602295e-05,  7.72889607e-04],\n",
       "        [ 9.85602295e-05,  9.44170485e-05, -1.87952150e-05],\n",
       "        [ 7.72889607e-04, -1.87952150e-05,  1.64047408e-04]]))"
      ]
     },
     "execution_count": 17,
     "metadata": {},
     "output_type": "execute_result"
    }
   ],
   "source": [
    "dir(pcd)\n",
    "pcd.compute_mean_and_covariance()"
   ]
  },
  {
   "cell_type": "code",
   "execution_count": null,
   "metadata": {
    "colab": {
     "base_uri": "https://localhost:8080/"
    },
    "id": "2_dUr8_U94mz",
    "outputId": "62a0040d-8524-4e77-cfe3-a035b8a28326"
   },
   "outputs": [
    {
     "data": {
      "text/plain": [
       "(array([-0.01837174,  0.00415545, -0.5430052 ]),\n",
       " array([[9.49564050e-03, 1.14889005e-04, 9.14288352e-04],\n",
       "        [1.14889005e-04, 1.16361096e-04, 5.99476666e-06],\n",
       "        [9.14288352e-04, 5.99476666e-06, 1.62715554e-04]]))"
      ]
     },
     "execution_count": 21,
     "metadata": {},
     "output_type": "execute_result"
    }
   ],
   "source": [
    "pcd.compute_mean_and_covariance()"
   ]
  },
  {
   "cell_type": "code",
   "execution_count": null,
   "metadata": {
    "id": "W-0ZqoZ4-T-_"
   },
   "outputs": [],
   "source": []
  }
 ],
 "metadata": {
  "colab": {
   "name": "POC Lissandro.ipynb",
   "provenance": []
  },
  "kernelspec": {
   "display_name": "Python 3 (ipykernel)",
   "language": "python",
   "name": "python3"
  },
  "language_info": {
   "codemirror_mode": {
    "name": "ipython",
    "version": 3
   },
   "file_extension": ".py",
   "mimetype": "text/x-python",
   "name": "python",
   "nbconvert_exporter": "python",
   "pygments_lexer": "ipython3",
   "version": "3.8.8"
  }
 },
 "nbformat": 4,
 "nbformat_minor": 4
}
