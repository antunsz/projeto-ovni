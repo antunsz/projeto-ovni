{
 "cells": [
  {
   "cell_type": "code",
   "execution_count": 49,
   "id": "872ecce7",
   "metadata": {},
   "outputs": [],
   "source": [
    "from raptor import Raptor, Analysis\n",
    "import numpy as np"
   ]
  },
  {
   "cell_type": "code",
   "execution_count": 32,
   "id": "80abdf6b",
   "metadata": {},
   "outputs": [],
   "source": [
    "r = Raptor(width=1280, height=720)"
   ]
  },
  {
   "cell_type": "code",
   "execution_count": 33,
   "id": "67b8caf8",
   "metadata": {},
   "outputs": [
    {
     "name": "stdout",
     "output_type": "stream",
     "text": [
      "Salvando configurações...\n",
      "Finalizando...\n"
     ]
    }
   ],
   "source": [
    "r.run(make_output_json=True, filepath=\"C:/Users/tobi_/OneDrive/Área de Trabalho/projeto-ovni/data/\")"
   ]
  },
  {
   "cell_type": "code",
   "execution_count": 52,
   "id": "ab6f2375",
   "metadata": {},
   "outputs": [],
   "source": [
    "a_rgb = Analysis('28-12-2021_0_rgb.data', path=\"C:/Users/tobi_/OneDrive/Área de Trabalho/projeto-ovni/data/\")"
   ]
  },
  {
   "cell_type": "code",
   "execution_count": 53,
   "id": "a74827f2",
   "metadata": {},
   "outputs": [
    {
     "data": {
      "text/plain": [
       "3"
      ]
     },
     "execution_count": 53,
     "metadata": {},
     "output_type": "execute_result"
    }
   ],
   "source": [
    "len(a_rgb.data['data'])"
   ]
  },
  {
   "cell_type": "code",
   "execution_count": 54,
   "id": "ecf1fd23",
   "metadata": {},
   "outputs": [
    {
     "data": {
      "text/plain": [
       "array([[[35, 71, 77],\n",
       "        [38, 74, 80],\n",
       "        [56, 77, 61],\n",
       "        ...,\n",
       "        [17, 61, 57],\n",
       "        [16, 48, 71],\n",
       "        [12, 44, 67]],\n",
       "\n",
       "       [[38, 75, 70],\n",
       "        [40, 77, 72],\n",
       "        [53, 74, 63],\n",
       "        ...,\n",
       "        [18, 61, 59],\n",
       "        [14, 50, 70],\n",
       "        [10, 46, 66]],\n",
       "\n",
       "       [[48, 82, 73],\n",
       "        [59, 93, 84],\n",
       "        [76, 99, 95],\n",
       "        ...,\n",
       "        [14, 59, 62],\n",
       "        [13, 51, 71],\n",
       "        [ 9, 47, 67]],\n",
       "\n",
       "       ...,\n",
       "\n",
       "       [[68, 66, 67],\n",
       "        [63, 61, 62],\n",
       "        [59, 62, 54],\n",
       "        ...,\n",
       "        [63, 80, 67],\n",
       "        [62, 79, 66],\n",
       "        [62, 79, 66]],\n",
       "\n",
       "       [[70, 61, 77],\n",
       "        [66, 57, 73],\n",
       "        [63, 60, 64],\n",
       "        ...,\n",
       "        [59, 77, 68],\n",
       "        [58, 77, 66],\n",
       "        [58, 77, 66]],\n",
       "\n",
       "       [[72, 57, 81],\n",
       "        [68, 53, 77],\n",
       "        [64, 57, 66],\n",
       "        ...,\n",
       "        [52, 74, 67],\n",
       "        [53, 73, 64],\n",
       "        [53, 73, 64]]])"
      ]
     },
     "execution_count": 54,
     "metadata": {},
     "output_type": "execute_result"
    }
   ],
   "source": [
    "np.array(a_rgb.data['data'][0]['image'])"
   ]
  },
  {
   "cell_type": "code",
   "execution_count": 55,
   "id": "a0a8e5fa",
   "metadata": {},
   "outputs": [],
   "source": [
    "a_depth = Analysis('28-12-2021_0_depth.data', path=\"C:/Users/tobi_/OneDrive/Área de Trabalho/projeto-ovni/data/\")"
   ]
  },
  {
   "cell_type": "code",
   "execution_count": 56,
   "id": "2896dd2b",
   "metadata": {},
   "outputs": [
    {
     "data": {
      "text/plain": [
       "3"
      ]
     },
     "execution_count": 56,
     "metadata": {},
     "output_type": "execute_result"
    }
   ],
   "source": [
    "len(a_depth.data['data'])"
   ]
  },
  {
   "cell_type": "code",
   "execution_count": 57,
   "id": "799f7fc1",
   "metadata": {},
   "outputs": [
    {
     "data": {
      "text/plain": [
       "array([[0, 0, 0, ..., 0, 0, 0],\n",
       "       [0, 0, 0, ..., 0, 0, 0],\n",
       "       [0, 0, 0, ..., 0, 0, 0],\n",
       "       ...,\n",
       "       [0, 0, 0, ..., 0, 0, 0],\n",
       "       [0, 0, 0, ..., 0, 0, 0],\n",
       "       [0, 0, 0, ..., 0, 0, 0]])"
      ]
     },
     "execution_count": 57,
     "metadata": {},
     "output_type": "execute_result"
    }
   ],
   "source": [
    "np.array(a_depth.data['data'][0]['image'])"
   ]
  },
  {
   "cell_type": "code",
   "execution_count": null,
   "id": "26fd265a",
   "metadata": {},
   "outputs": [],
   "source": []
  }
 ],
 "metadata": {
  "kernelspec": {
   "display_name": "Python 3",
   "language": "python",
   "name": "python3"
  },
  "language_info": {
   "codemirror_mode": {
    "name": "ipython",
    "version": 3
   },
   "file_extension": ".py",
   "mimetype": "text/x-python",
   "name": "python",
   "nbconvert_exporter": "python",
   "pygments_lexer": "ipython3",
   "version": "3.8.8"
  }
 },
 "nbformat": 4,
 "nbformat_minor": 5
}
