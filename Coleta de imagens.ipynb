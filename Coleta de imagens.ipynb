{
 "cells": [
  {
   "cell_type": "code",
   "execution_count": 20,
   "id": "872ecce7",
   "metadata": {},
   "outputs": [],
   "source": [
    "from raptor import Raptor, Analysis\n",
    "import numpy as np\n",
    "import pyrealsense2 as rs"
   ]
  },
  {
   "cell_type": "code",
   "execution_count": 21,
   "id": "80abdf6b",
   "metadata": {},
   "outputs": [
    {
     "ename": "RuntimeError",
     "evalue": "Couldn't resolve requests",
     "output_type": "error",
     "traceback": [
      "\u001b[1;31m---------------------------------------------------------------------------\u001b[0m",
      "\u001b[1;31mRuntimeError\u001b[0m                              Traceback (most recent call last)",
      "\u001b[1;32m<ipython-input-21-a893982075b8>\u001b[0m in \u001b[0;36m<module>\u001b[1;34m\u001b[0m\n\u001b[1;32m----> 1\u001b[1;33m \u001b[0mr\u001b[0m \u001b[1;33m=\u001b[0m \u001b[0mRaptor\u001b[0m\u001b[1;33m(\u001b[0m\u001b[0mwidth\u001b[0m\u001b[1;33m=\u001b[0m\u001b[1;36m1920\u001b[0m\u001b[1;33m,\u001b[0m \u001b[0mheight\u001b[0m\u001b[1;33m=\u001b[0m\u001b[1;36m1080\u001b[0m\u001b[1;33m)\u001b[0m\u001b[1;33m\u001b[0m\u001b[1;33m\u001b[0m\u001b[0m\n\u001b[0m",
      "\u001b[1;32m~\\OneDrive\\Área de Trabalho\\projeto-ovni\\raptor.py\u001b[0m in \u001b[0;36m__init__\u001b[1;34m(self, width, height)\u001b[0m\n\u001b[0;32m     33\u001b[0m \u001b[1;33m\u001b[0m\u001b[0m\n\u001b[0;32m     34\u001b[0m         \u001b[1;31m# Start streaming\u001b[0m\u001b[1;33m\u001b[0m\u001b[1;33m\u001b[0m\u001b[1;33m\u001b[0m\u001b[0m\n\u001b[1;32m---> 35\u001b[1;33m         \u001b[0mself\u001b[0m\u001b[1;33m.\u001b[0m\u001b[0mpipeline\u001b[0m\u001b[1;33m.\u001b[0m\u001b[0mstart\u001b[0m\u001b[1;33m(\u001b[0m\u001b[0mconfig\u001b[0m\u001b[1;33m)\u001b[0m\u001b[1;33m\u001b[0m\u001b[1;33m\u001b[0m\u001b[0m\n\u001b[0m\u001b[0;32m     36\u001b[0m \u001b[1;33m\u001b[0m\u001b[0m\n\u001b[0;32m     37\u001b[0m     \u001b[1;32mdef\u001b[0m \u001b[0mrun\u001b[0m\u001b[1;33m(\u001b[0m\u001b[0mself\u001b[0m\u001b[1;33m,\u001b[0m \u001b[0md_function\u001b[0m\u001b[1;33m=\u001b[0m\u001b[1;32mNone\u001b[0m\u001b[1;33m,\u001b[0m \u001b[0mrgb_function\u001b[0m\u001b[1;33m=\u001b[0m\u001b[1;32mNone\u001b[0m\u001b[1;33m,\u001b[0m \u001b[0mmake_output_json\u001b[0m\u001b[1;33m=\u001b[0m\u001b[1;32mFalse\u001b[0m\u001b[1;33m,\u001b[0m \u001b[0mfilepath\u001b[0m\u001b[1;33m=\u001b[0m\u001b[1;34m'./data/'\u001b[0m\u001b[1;33m,\u001b[0m \u001b[0mframe_catch\u001b[0m\u001b[1;33m=\u001b[0m\u001b[1;36m30\u001b[0m\u001b[1;33m,\u001b[0m \u001b[0mmax_images\u001b[0m\u001b[1;33m=\u001b[0m\u001b[1;36m100\u001b[0m\u001b[1;33m)\u001b[0m\u001b[1;33m:\u001b[0m\u001b[1;33m\u001b[0m\u001b[1;33m\u001b[0m\u001b[0m\n",
      "\u001b[1;31mRuntimeError\u001b[0m: Couldn't resolve requests"
     ]
    }
   ],
   "source": [
    "r = Raptor(width=1920, height=1080)"
   ]
  },
  {
   "cell_type": "code",
   "execution_count": null,
   "id": "435c942c",
   "metadata": {},
   "outputs": [],
   "source": []
  },
  {
   "cell_type": "code",
   "execution_count": 6,
   "id": "67b8caf8",
   "metadata": {},
   "outputs": [
    {
     "name": "stdout",
     "output_type": "stream",
     "text": [
      "Salvando configurações...\n",
      "Finalizando...\n"
     ]
    }
   ],
   "source": [
    "r.run(make_output_json=True, filepath=\"C:/Users/tobi_/OneDrive/Área de Trabalho/projeto-ovni/data/\")"
   ]
  },
  {
   "cell_type": "code",
   "execution_count": null,
   "id": "ab6f2375",
   "metadata": {},
   "outputs": [],
   "source": [
    "a_rgb = Analysis('28-12-2021_0_rgb.data', path=\"C:/Users/tobi_/OneDrive/Área de Trabalho/projeto-ovni/data/\")"
   ]
  },
  {
   "cell_type": "code",
   "execution_count": null,
   "id": "a74827f2",
   "metadata": {},
   "outputs": [],
   "source": [
    "len(a_rgb.data['data'])"
   ]
  },
  {
   "cell_type": "code",
   "execution_count": null,
   "id": "ecf1fd23",
   "metadata": {},
   "outputs": [],
   "source": [
    "np.array(a_rgb.data['data'][0]['image'])"
   ]
  },
  {
   "cell_type": "code",
   "execution_count": null,
   "id": "a0a8e5fa",
   "metadata": {},
   "outputs": [],
   "source": [
    "a_depth = Analysis('28-12-2021_0_depth.data', path=\"C:/Users/tobi_/OneDrive/Área de Trabalho/projeto-ovni/data/\")"
   ]
  },
  {
   "cell_type": "code",
   "execution_count": null,
   "id": "2896dd2b",
   "metadata": {},
   "outputs": [],
   "source": [
    "len(a_depth.data['data'])"
   ]
  },
  {
   "cell_type": "code",
   "execution_count": null,
   "id": "799f7fc1",
   "metadata": {},
   "outputs": [],
   "source": [
    "np.array(a_depth.data['data'][0]['image'])"
   ]
  },
  {
   "cell_type": "code",
   "execution_count": null,
   "id": "26fd265a",
   "metadata": {},
   "outputs": [],
   "source": []
  }
 ],
 "metadata": {
  "kernelspec": {
   "display_name": "Python 3",
   "language": "python",
   "name": "python3"
  },
  "language_info": {
   "codemirror_mode": {
    "name": "ipython",
    "version": 3
   },
   "file_extension": ".py",
   "mimetype": "text/x-python",
   "name": "python",
   "nbconvert_exporter": "python",
   "pygments_lexer": "ipython3",
   "version": "3.8.8"
  }
 },
 "nbformat": 4,
 "nbformat_minor": 5
}
