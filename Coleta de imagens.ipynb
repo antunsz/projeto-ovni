{
 "cells": [
  {
   "cell_type": "code",
   "execution_count": 1,
   "id": "872ecce7",
   "metadata": {},
   "outputs": [],
   "source": [
    "from raptor import Raptor, Analysis\n",
    "import numpy as np"
   ]
  },
  {
   "cell_type": "code",
   "execution_count": 2,
   "id": "80abdf6b",
   "metadata": {},
   "outputs": [],
   "source": [
    "r = Raptor(width=1280, height=720)"
   ]
  },
  {
   "cell_type": "code",
   "execution_count": 3,
   "id": "67b8caf8",
   "metadata": {},
   "outputs": [
    {
     "name": "stdout",
     "output_type": "stream",
     "text": [
      "Salvando configurações...\n",
      "Finalizando...\n"
     ]
    }
   ],
   "source": [
    "r.run(make_output_json=True, filepath=\"C:/Users/tobi_/OneDrive/Área de Trabalho/projeto-ovni/data/\")"
   ]
  },
  {
   "cell_type": "code",
   "execution_count": null,
   "id": "ab6f2375",
   "metadata": {},
   "outputs": [],
   "source": [
    "a_rgb = Analysis('28-12-2021_0_rgb.data', path=\"C:/Users/tobi_/OneDrive/Área de Trabalho/projeto-ovni/data/\")"
   ]
  },
  {
   "cell_type": "code",
   "execution_count": null,
   "id": "a74827f2",
   "metadata": {},
   "outputs": [],
   "source": [
    "len(a_rgb.data['data'])"
   ]
  },
  {
   "cell_type": "code",
   "execution_count": null,
   "id": "ecf1fd23",
   "metadata": {},
   "outputs": [],
   "source": [
    "np.array(a_rgb.data['data'][0]['image'])"
   ]
  },
  {
   "cell_type": "code",
   "execution_count": null,
   "id": "a0a8e5fa",
   "metadata": {},
   "outputs": [],
   "source": [
    "a_depth = Analysis('28-12-2021_0_depth.data', path=\"C:/Users/tobi_/OneDrive/Área de Trabalho/projeto-ovni/data/\")"
   ]
  },
  {
   "cell_type": "code",
   "execution_count": null,
   "id": "2896dd2b",
   "metadata": {},
   "outputs": [],
   "source": [
    "len(a_depth.data['data'])"
   ]
  },
  {
   "cell_type": "code",
   "execution_count": null,
   "id": "799f7fc1",
   "metadata": {},
   "outputs": [],
   "source": [
    "np.array(a_depth.data['data'][0]['image'])"
   ]
  },
  {
   "cell_type": "code",
   "execution_count": null,
   "id": "26fd265a",
   "metadata": {},
   "outputs": [],
   "source": []
  }
 ],
 "metadata": {
  "kernelspec": {
   "display_name": "Python 3",
   "language": "python",
   "name": "python3"
  },
  "language_info": {
   "codemirror_mode": {
    "name": "ipython",
    "version": 3
   },
   "file_extension": ".py",
   "mimetype": "text/x-python",
   "name": "python",
   "nbconvert_exporter": "python",
   "pygments_lexer": "ipython3",
   "version": "3.8.8"
  }
 },
 "nbformat": 4,
 "nbformat_minor": 5
}
